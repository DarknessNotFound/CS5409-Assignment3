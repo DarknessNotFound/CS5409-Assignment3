{
 "cells": [
  {
   "cell_type": "code",
   "execution_count": 71,
   "metadata": {},
   "outputs": [],
   "source": [
    "import numpy as np\n",
    "import json\n",
    "from matplotlib import pyplot as plt\n",
    "from matplotlib import colors\n",
    "from scipy.stats import lognorm, pearsonr\n",
    "\n",
    "from copy import deepcopy\n",
    "import time\n",
    "from datetime import timedelta"
   ]
  },
  {
   "cell_type": "markdown",
   "metadata": {},
   "source": [
    "# Import Data"
   ]
  },
  {
   "cell_type": "code",
   "execution_count": 72,
   "metadata": {},
   "outputs": [
    {
     "name": "stdout",
     "output_type": "stream",
     "text": [
      "Total Edges Found: 13289\n"
     ]
    }
   ],
   "source": [
    "edges = {}\n",
    "counter = 0\n",
    "with open('congress.edgelist') as reader:\n",
    "    line = reader.readline()\n",
    "    while line != '':\n",
    "        obj = line.split(' ')\n",
    "        edge_l = int(obj[0])\n",
    "        edge_r = int(obj[1])\n",
    "\n",
    "        if edge_l not in edges:\n",
    "            edges[edge_l] = [edge_r]\n",
    "        else:\n",
    "            edges[edge_l].append(edge_r)\n",
    "        counter += 1\n",
    "        line = reader.readline()\n",
    "\n",
    "num_nodes = len(edges.keys())\n",
    "\n",
    "print(f\"Total Edges Found: {counter}\")"
   ]
  },
  {
   "cell_type": "code",
   "execution_count": 73,
   "metadata": {},
   "outputs": [],
   "source": [
    "import json\n",
    "json_str = json.dumps(edges)\n",
    "with open(\"Albright_Edgelist.json\", \"w\") as text_file:\n",
    "    text_file.write(json_str)"
   ]
  },
  {
   "cell_type": "markdown",
   "metadata": {},
   "source": [
    "# Pagerank Algorithm"
   ]
  },
  {
   "cell_type": "code",
   "execution_count": 74,
   "metadata": {},
   "outputs": [
    {
     "name": "stdout",
     "output_type": "stream",
     "text": [
      "Total Time Took: 0:00:00.107594\n",
      "Average Time Took: 0:00:00.001076\n"
     ]
    }
   ],
   "source": [
    "def pagerank(e: dict, a: float = 0.85, num_iters: int = 10) -> dict:\n",
    "    \"\"\"This computes the PageRank algorithm using an inputed edge list and a given alpha\n",
    "\n",
    "    Args:\n",
    "        e (dict): Key: node, Value: list of edges\n",
    "        a (float): Alpha modifier\n",
    "\n",
    "    Returns:\n",
    "        dict: Key: node, Value: Pagerank score (float)\n",
    "    \"\"\"\n",
    "    assert a >= 0 and a < 1, \"Alpha must be between [0,1)\"\n",
    "\n",
    "    node_names = set([a for a in e.keys()])\n",
    "    num_nodes = len(node_names)\n",
    "    init_value = 1 / num_nodes\n",
    "    values = [init_value] * num_nodes\n",
    "    pageranks = dict(zip(node_names, values))\n",
    "    global_offset = (1 - a)/num_nodes\n",
    "\n",
    "    def pr(edge) -> float:\n",
    "        sum = 0\n",
    "        for k in e[edge]:\n",
    "            pr_k = pageranks[k]\n",
    "            c_k = len(edges[k])\n",
    "            sum += pr_k/c_k\n",
    "\n",
    "        return global_offset + a*sum\n",
    "    \n",
    "    start_time = time.perf_counter()\n",
    "    for i in range(num_iters):\n",
    "        new_pageranks = {}\n",
    "        for edge in node_names:\n",
    "            new_pageranks[edge] = pr(edge)\n",
    "        pageranks = deepcopy(new_pageranks)\n",
    "        \n",
    "    duration = timedelta(seconds=time.perf_counter()-start_time)\n",
    "    print(f\"Total Time Took: {duration}\")\n",
    "    print(f\"Average Time Took: {(duration/num_iters)}\")\n",
    "    return pageranks \n",
    "\n",
    "calculated_pagerank = pagerank(edges, 0.85, 100)"
   ]
  },
  {
   "cell_type": "markdown",
   "metadata": {},
   "source": [
    "# HITS Algorithm"
   ]
  },
  {
   "cell_type": "code",
   "execution_count": 75,
   "metadata": {},
   "outputs": [
    {
     "name": "stdout",
     "output_type": "stream",
     "text": [
      "Total Time Took: 0:00:00.001269\n",
      "Average Time Took: 0:00:00.001269\n"
     ]
    }
   ],
   "source": [
    "def HITS(e: dict, num_iters: int = 10) -> tuple[dict, dict]:\n",
    "    \"\"\"Computes the HITS algorithm and returns the hub/authority scores of all the nodes.\n",
    "\n",
    "    Args:\n",
    "        e (dict): Key: Node, Value: Array of nodes k that k points to (out).\n",
    "        num_iters (int, optional): Amount of times to loop. Defaults to 10.\n",
    "\n",
    "    Returns:\n",
    "        tuple[dict, dict]: Hub, Authority\n",
    "    \"\"\"\n",
    "    node_names = set([a for a in e.keys()])\n",
    "    num_nodes = len(node_names)\n",
    "    init_value = 1\n",
    "    values = [init_value] * num_nodes\n",
    "    hub = dict(zip(node_names, values))\n",
    "    aut = dict(zip(node_names, values))\n",
    "\n",
    "    out_nodes = e\n",
    "    in_nodes = dict(zip(node_names, [[] for i in range(num_nodes)]))\n",
    "    for node in node_names:\n",
    "        nodes_pointing_to = out_nodes[node]\n",
    "        for node_destination in nodes_pointing_to:\n",
    "            in_nodes[node_destination] = in_nodes[node_destination] + [node]\n",
    "\n",
    "    def calc_hub(edge) -> float:\n",
    "        sum = 0.0\n",
    "        for n in in_nodes[edge]:\n",
    "            sum += aut[n]\n",
    "        return sum\n",
    "    \n",
    "    def calc_authority(edge) -> float:\n",
    "        sum = 0.0\n",
    "        for n in out_nodes[edge]:\n",
    "            sum += hub[n]\n",
    "        return sum\n",
    "    \n",
    "    def norm_dict(d: dict) -> dict:\n",
    "        sum = 0\n",
    "        for k in d.keys():\n",
    "            sum += d[k]\n",
    "        for k in d.keys():\n",
    "            d[k] = d[k]/sum\n",
    "        return d\n",
    "    \n",
    "    start_time = time.perf_counter()\n",
    "    for i in range(num_iters):\n",
    "        init_value = 1\n",
    "        values = [init_value] * num_nodes\n",
    "        new_aut = dict(zip(node_names, values))\n",
    "        new_hub = dict(zip(node_names, values))\n",
    "\n",
    "        for edge in node_names:\n",
    "            new_hub[edge] = calc_hub(edge)\n",
    "            new_aut[edge] = calc_authority(edge)\n",
    "        \n",
    "        new_hub = norm_dict(new_hub)\n",
    "        new_aut = norm_dict(new_aut)\n",
    "\n",
    "        hub = deepcopy(new_hub)\n",
    "        aut = deepcopy(new_aut)\n",
    "\n",
    "    duration = timedelta(seconds=time.perf_counter()-start_time)\n",
    "    print(f\"Total Time Took: {duration}\")\n",
    "    print(f\"Average Time Took: {(duration/num_iters)}\")\n",
    "    return hub, aut \n",
    "\n",
    "calculated_Hub, calculated_Authority = HITS(edges, 1)"
   ]
  },
  {
   "cell_type": "markdown",
   "metadata": {},
   "source": [
    "## HITS Score Distribution"
   ]
  },
  {
   "cell_type": "code",
   "execution_count": 76,
   "metadata": {},
   "outputs": [],
   "source": [
    "hub_data = [calculated_Hub[h] for h in calculated_Hub.keys()]\n",
    "aut_data = [calculated_Authority[h] for h in calculated_Authority.keys()]"
   ]
  },
  {
   "cell_type": "markdown",
   "metadata": {},
   "source": [
    "### Histogram"
   ]
  },
  {
   "cell_type": "code",
   "execution_count": 77,
   "metadata": {},
   "outputs": [
    {
     "data": {
      "image/png": "[encoded data removed]",
      "text/plain": [
       "<Figure size 1000x600 with 2 Axes>"
      ]
     },
     "metadata": {},
     "output_type": "display_data"
    }
   ],
   "source": [
    "# NOTE: this was essential copy and paste from matplotlib's docs.\n",
    "# https://matplotlib.org/stable/gallery/statistics/hist.html#sphx-glr-gallery-statistics-hist-py\n",
    "n_bins = 20\n",
    "fig, axs = plt.subplots(1, 2, tight_layout=True)\n",
    "\n",
    "# N is the count in each bin, bins is the lower-limit of the bin\n",
    "N, bins, patches = axs[0].hist(hub_data, bins=n_bins)\n",
    "\n",
    "# We'll color code by height, but you could use any scalar\n",
    "fracs = N / N.max()\n",
    "\n",
    "# we need to normalize the data to 0..1 for the full range of the colormap\n",
    "norm = colors.Normalize(fracs.min(), fracs.max())\n",
    "\n",
    "# Now, we'll loop through our objects and set the color of each accordingly\n",
    "for thisfrac, thispatch in zip(fracs, patches):\n",
    "    color = plt.cm.viridis(norm(thisfrac))\n",
    "    thispatch.set_facecolor(color)\n",
    "\n",
    "# N is the count in each bin, bins is the lower-limit of the bin\n",
    "N, bins, patches = axs[1].hist(hub_data, bins=n_bins)\n",
    "\n",
    "# We'll color code by height, but you could use any scalar\n",
    "fracs = N / N.max()\n",
    "\n",
    "# we need to normalize the data to 0..1 for the full range of the colormap\n",
    "norm = colors.Normalize(fracs.min(), fracs.max())\n",
    "\n",
    "# Now, we'll loop through our objects and set the color of each accordingly\n",
    "for thisfrac, thispatch in zip(fracs, patches):\n",
    "    color = plt.cm.viridis(norm(thisfrac))\n",
    "    thispatch.set_facecolor(color)\n",
    "\n",
    "# Set Labels\n",
    "axs[0].set_xlabel(\"Hub Score\")\n",
    "axs[1].set_xlabel(\"Authority Score\")\n",
    "axs[0].set_ylabel(\"Count\")\n",
    "fig.set_size_inches(10, 6)"
   ]
  },
  {
   "cell_type": "markdown",
   "metadata": {},
   "source": [
    "### 2D-Histogram with both Hub and Authority"
   ]
  },
  {
   "cell_type": "code",
   "execution_count": 78,
   "metadata": {},
   "outputs": [
    {
     "data": {
      "text/plain": [
       "Text(0, 0.5, 'Authority Score')"
      ]
     },
     "execution_count": 78,
     "metadata": {},
     "output_type": "execute_result"
    },
    {
     "data": {
      "image/png": "[encoded data removed]",
      "text/plain": [
       "<Figure size 640x480 with 2 Axes>"
      ]
     },
     "metadata": {},
     "output_type": "display_data"
    }
   ],
   "source": [
    "# fig, ax = plt.subplots(tight_layout=True)\n",
    "# hist = ax.hist2d(hub_data, aut_data)\n",
    "plt.hist2d(hub_data, aut_data)\n",
    "plt.colorbar()\n",
    "plt.title(\"Hub vs Authority Distribution\")\n",
    "plt.xlabel(\"Hub Score\")\n",
    "plt.ylabel(\"Authority Score\")"
   ]
  },
  {
   "cell_type": "markdown",
   "metadata": {},
   "source": [
    "# Pearson's Correlation Coefficient: Hub vs Pagerank"
   ]
  },
  {
   "cell_type": "code",
   "execution_count": 79,
   "metadata": {},
   "outputs": [],
   "source": [
    "hub_data = []\n",
    "auth_data = []\n",
    "pr_data = []\n",
    "for node in edges.keys():\n",
    "    hub_data.append(calculated_Hub[node])\n",
    "    auth_data.append(calculated_Authority[node])\n",
    "    pr_data.append(calculated_pagerank[node])"
   ]
  },
  {
   "cell_type": "code",
   "execution_count": 83,
   "metadata": {},
   "outputs": [
    {
     "name": "stdout",
     "output_type": "stream",
     "text": [
      "Hub vs Pagerank: 0.4785404724621462\n",
      "Pagerank vs Hub: 0.4785404724621462\n"
     ]
    }
   ],
   "source": [
    "print(f\"Hub vs Pagerank: {pearsonr(hub_data, pr_data).statistic}\")\n",
    "print(f\"Pagerank vs Hub: {pearsonr(pr_data, hub_data).statistic}\")"
   ]
  },
  {
   "cell_type": "markdown",
   "metadata": {},
   "source": [
    "# Pearson's Correlation Coefficient: Authority vs Pagerank"
   ]
  },
  {
   "cell_type": "code",
   "execution_count": 84,
   "metadata": {},
   "outputs": [
    {
     "name": "stdout",
     "output_type": "stream",
     "text": [
      "Authority vs Pagerank: 0.9991239900382854\n",
      "Pagerank vs Authority: 0.9991239900382854\n"
     ]
    }
   ],
   "source": [
    "print(f\"Authority vs Pagerank: {pearsonr(auth_data, pr_data).statistic}\")\n",
    "print(f\"Pagerank vs Authority: {pearsonr(pr_data, auth_data).statistic}\")"
   ]
  }
 ],
 "metadata": {
  "kernelspec": {
   "display_name": "Python 3",
   "language": "python",
   "name": "python3"
  },
  "language_info": {
   "codemirror_mode": {
    "name": "ipython",
    "version": 3
   },
   "file_extension": ".py",
   "mimetype": "text/x-python",
   "name": "python",
   "nbconvert_exporter": "python",
   "pygments_lexer": "ipython3",
   "version": "3.12.5"
  }
 },
 "nbformat": 4,
 "nbformat_minor": 2
}
